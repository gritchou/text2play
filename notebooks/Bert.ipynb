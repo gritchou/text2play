{
 "cells": [
  {
   "cell_type": "markdown",
   "metadata": {},
   "source": [
    "# 1.1 Baseline Model"
   ]
  },
  {
   "cell_type": "code",
   "execution_count": 4,
   "metadata": {},
   "outputs": [
    {
     "data": {
      "text/plain": [
       "'Van Gogh\\'s night sky is a field of roiling energy. Below the exploding stars, the village is a place of quiet order. Connecting earth and sky is the flamelike cypress, a tree traditionally associated with graveyards and mourning. But death was not ominous for van Gogh. \"Looking at the stars always makes me dream,\" he said, \"Why, I ask myself, shouldn\\'t the shining dots of the sky be as accessible as the black dots on the map of France? Just as we take the train to get to Tarascon or Rouen, we take death to reach a star.\"\\r\\nThe artist wrote of his experience to his brother Theo: \"This morning I saw the country from my window a long time before sunrise, with nothing but the morning star, which looked very big.\" This morning star, or Venus, may be the large white star just left of center in The Starry Night. The hamlet, on the other hand, is invented, and the church spire evokes van Gogh\\'s native land, the Netherlands. The painting, like its daytime companion, The Olive Trees, is rooted in imagination and memory. Leaving behind the Impressionist doctrine of truth to nature in favor of restless feeling and intense color, as in this highly charged picture, van Gogh made his work a touchstone for all subsequent Expressionist painting.'"
      ]
     },
     "execution_count": 4,
     "metadata": {},
     "output_type": "execute_result"
    }
   ],
   "source": [
    "import pandas as pd\n",
    "from sklearn.feature_extraction.text import TfidfVectorizer\n",
    "from sklearn.metrics.pairwise import cosine_similarity\n",
    "import re\n",
    "\n",
    "# Load your dataframe\n",
    "df = pd.read_csv(\"/home/shuja3/code/gritchou/text2play/data/raw/paintings_dataset.csv\")  # Replace \"your_dataframe.csv\" with your dataframe's filename\n",
    "nan = df['Description'].notna()\n",
    "df = df[nan]\n",
    "df['Description'][1]"
   ]
  },
  {
   "cell_type": "code",
   "execution_count": 5,
   "metadata": {},
   "outputs": [
    {
     "name": "stdout",
     "output_type": "stream",
     "text": [
      "Most Similar Description: an interesting story that indicates kandinskys intellectual examination in the creation of his works revolves around this composition he became exhausted during the months of studying he went through in preparation for this painting and decided to go for a walk his assistant at the time gabrielle munter who was tidying up the studio in the artists absence inadvertently turned the canvas on its side upon kandinskys return he saw the canvas fell to his knees and began weeping at the beauty of the painting his newly found perspective on the piece would change his artistic vision and direction for the rest of his life \n"
     ]
    }
   ],
   "source": [
    "\n",
    "# Preprocess the descriptions\n",
    "# For simplicity, let's assume you have a column named 'description' in your dataframe\n",
    "df['Description'] = df['Description'].str.lower()  # Convert to lowercase\n",
    "df['Description'] = df['Description'].apply(lambda x: re.sub(r'[^\\w\\s]', '', x))  # Remove punctuation\n",
    "\n",
    "# User input\n",
    "user_input = \"Existential Crisis\"\n",
    "\n",
    "# TF-IDF Vectorization\n",
    "tfidf_vectorizer = TfidfVectorizer()\n",
    "tfidf_matrix = tfidf_vectorizer.fit_transform(df['Description'])\n",
    "\n",
    "# Convert user input to TF-IDF vector\n",
    "user_input_vector = tfidf_vectorizer.transform([user_input])\n",
    "\n",
    "# Compute cosine similarity between user input and descriptions\n",
    "cos_similarities = cosine_similarity(user_input_vector, tfidf_matrix)\n",
    "\n",
    "# Find the index of the most similar Description\n",
    "most_similar_index = cos_similarities.argmax()\n",
    "\n",
    "# Get the most similar Description\n",
    "most_similar_description = df.loc[most_similar_index, 'Description']\n",
    "print(\"Most Similar Description:\", most_similar_description)\n"
   ]
  },
  {
   "cell_type": "markdown",
   "metadata": {},
   "source": [
    "## BERT Model\n"
   ]
  },
  {
   "cell_type": "code",
   "execution_count": 9,
   "metadata": {},
   "outputs": [],
   "source": [
    "import pandas as pd\n",
    "from sentence_transformers import SentenceTransformer, util\n",
    "import numpy as np\n",
    "import re\n",
    "\n",
    "# Load your dataset\n",
    "df = pd.read_csv('/home/shuja3/code/gritchou/text2play/data/raw/paintings_dataset.csv')# Update the path and file name as necessary\n",
    "nan = df['Description'].notna()\n",
    "df = df[nan]"
   ]
  },
  {
   "cell_type": "code",
   "execution_count": 10,
   "metadata": {},
   "outputs": [
    {
     "name": "stdout",
     "output_type": "stream",
     "text": [
      "van gogh's night sky is a field of roiling energy. below the exploding stars, the village is a place of quiet order. connecting earth and sky is the flamelike cypress, a tree traditionally associated with graveyards and mourning. but death was not ominous for van gogh. \"looking at the stars always makes me dream,\" he said, \"why, i ask myself, shouldn't the shining dots of the sky be as accessible as the black dots on the map of france? just as we take the train to get to tarascon or rouen, we take death to reach a star.\"\n",
      "the artist wrote of his experience to his brother theo: \"this morning i saw the country from my window a long time before sunrise, with nothing but the morning star, which looked very big.\" this morning star, or venus, may be the large white star just left of center in the starry night. the hamlet, on the other hand, is invented, and the church spire evokes van gogh's native land, the netherlands. the painting, like its daytime companion, the olive trees, is rooted in imagination and memory. leaving behind the impressionist doctrine of truth to nature in favor of restless feeling and intense color, as in this highly charged picture, van gogh made his work a touchstone for all subsequent expressionist painting.\n"
     ]
    }
   ],
   "source": [
    "# Cleaning\n",
    "df['Description'] = df['Description'].str.lower()  # Convert to lowercase\n",
    "print(df['Description'][1])"
   ]
  },
  {
   "cell_type": "code",
   "execution_count": 12,
   "metadata": {},
   "outputs": [
    {
     "name": "stdout",
     "output_type": "stream",
     "text": [
      "van goghs night sky is a field of roiling energy below the exploding stars the village is a place of quiet order connecting earth and sky is the flamelike cypress a tree traditionally associated with graveyards and mourning but death was not ominous for van gogh looking at the stars always makes me dream he said why i ask myself shouldnt the shining dots of the sky be as accessible as the black dots on the map of france just as we take the train to get to tarascon or rouen we take death to reach a star\n",
      "the artist wrote of his experience to his brother theo this morning i saw the country from my window a long time before sunrise with nothing but the morning star which looked very big this morning star or venus may be the large white star just left of center in the starry night the hamlet on the other hand is invented and the church spire evokes van goghs native land the netherlands the painting like its daytime companion the olive trees is rooted in imagination and memory leaving behind the impressionist doctrine of truth to nature in favor of restless feeling and intense color as in this highly charged picture van gogh made his work a touchstone for all subsequent expressionist painting\n"
     ]
    },
    {
     "name": "stderr",
     "output_type": "stream",
     "text": [
      "/home/shuja3/.pyenv/versions/3.10.6/envs/text2play/lib/python3.10/site-packages/huggingface_hub/file_download.py:1132: FutureWarning: `resume_download` is deprecated and will be removed in version 1.0.0. Downloads always resume when possible. If you want to force a new download, use `force_download=True`.\n",
      "  warnings.warn(\n",
      "/home/shuja3/.pyenv/versions/3.10.6/envs/text2play/lib/python3.10/site-packages/huggingface_hub/file_download.py:1132: FutureWarning: `resume_download` is deprecated and will be removed in version 1.0.0. Downloads always resume when possible. If you want to force a new download, use `force_download=True`.\n",
      "  warnings.warn(\n"
     ]
    }
   ],
   "source": [
    "df['Description'] = df['Description'].apply(lambda x: re.sub(r'[^\\w\\s]', '', x))  # Remove punctuation\n",
    "print(df['Description'][1])\n",
    "\n",
    "\n",
    "descriptions = df['Description'].tolist()  # Update 'description' if using a different column name\n",
    "\n",
    "# Load the BERT model from sentence-transformers\n",
    "model = SentenceTransformer('all-MiniLM-L6-v2')  # A smaller, faster model than BERT for testing\n",
    "# model = SentenceTransformer('google-bert/bert-base-uncased')"
   ]
  },
  {
   "cell_type": "code",
   "execution_count": 33,
   "metadata": {},
   "outputs": [
    {
     "data": {
      "text/plain": [
       "torch.Tensor"
      ]
     },
     "execution_count": 33,
     "metadata": {},
     "output_type": "execute_result"
    }
   ],
   "source": [
    "# Generate embeddings for the descriptions\n",
    "description_embeddings = model.encode(descriptions, convert_to_tensor=True)\n",
    "\n",
    "# Input text\n",
    "input_text = \"Futuristic city\"\n",
    "input_embedding = model.encode(input_text, convert_to_tensor=True)\n",
    "\n",
    "# Calculate cosine similarities\n",
    "cosine_scores = util.pytorch_cos_sim(input_embedding, description_embeddings)\n",
    "type(cosine_scores)"
   ]
  },
  {
   "cell_type": "code",
   "execution_count": 34,
   "metadata": {},
   "outputs": [
    {
     "name": "stdout",
     "output_type": "stream",
     "text": [
      "Relevant URL: https://uploads2.wikiart.org/00129/images/edward-hopper/nighthawks.jpg!Large.jpg\n",
      "Similarity score: 0.25323590636253357\n"
     ]
    }
   ],
   "source": [
    "# Convert the PyTorch tensor to a NumPy array\n",
    "cosine_scores_np = cosine_scores.cpu().detach().numpy()\n",
    "\n",
    "# Find the index of the highest scoring painting description\n",
    "highest_score_index = np.argmax(cosine_scores_np)\n",
    "\n",
    "# Output the most similar description and its score\n",
    "most_similar_url = df.iloc[highest_score_index]\n",
    "highest_score = cosine_scores[0, highest_score_index].item()\n",
    "\n",
    "print(\"Relevant URL:\", most_similar_url['Image URL'])\n",
    "print(\"Similarity score:\", highest_score)"
   ]
  },
  {
   "cell_type": "code",
   "execution_count": null,
   "metadata": {},
   "outputs": [],
   "source": []
  }
 ],
 "metadata": {
  "kernelspec": {
   "display_name": "text2play",
   "language": "python",
   "name": "python3"
  },
  "language_info": {
   "codemirror_mode": {
    "name": "ipython",
    "version": 3
   },
   "file_extension": ".py",
   "mimetype": "text/x-python",
   "name": "python",
   "nbconvert_exporter": "python",
   "pygments_lexer": "ipython3",
   "version": "3.10.6"
  }
 },
 "nbformat": 4,
 "nbformat_minor": 2
}
