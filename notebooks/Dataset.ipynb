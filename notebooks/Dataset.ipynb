{
 "cells": [
  {
   "cell_type": "code",
   "execution_count": 6,
   "id": "19372065-b8d0-4189-89e9-65a018d06040",
   "metadata": {},
   "outputs": [],
   "source": [
    "import os\n",
    "from dotenv import load_dotenv\n",
    "from pathlib import Path\n",
    "import pandas as pd\n",
    "\n",
    "load_dotenv()\n",
    "\n",
    "PAINTINGS_CSV_FILE=os.getenv('PAINTINGS_CSV_FILE')"
   ]
  },
  {
   "cell_type": "code",
   "execution_count": 9,
   "id": "3c7d274e-b49e-4f5c-aa34-daf277a83585",
   "metadata": {},
   "outputs": [],
   "source": [
    "df = pd.read_csv(Path.cwd().parent / PAINTINGS_CSV_FILE)"
   ]
  },
  {
   "cell_type": "code",
   "execution_count": 10,
   "id": "3907020e-57e7-4f4c-b217-2c9b281be6ec",
   "metadata": {},
   "outputs": [
    {
     "data": {
      "text/html": [
       "<div>\n",
       "<style scoped>\n",
       "    .dataframe tbody tr th:only-of-type {\n",
       "        vertical-align: middle;\n",
       "    }\n",
       "\n",
       "    .dataframe tbody tr th {\n",
       "        vertical-align: top;\n",
       "    }\n",
       "\n",
       "    .dataframe thead th {\n",
       "        text-align: right;\n",
       "    }\n",
       "</style>\n",
       "<table border=\"1\" class=\"dataframe\">\n",
       "  <thead>\n",
       "    <tr style=\"text-align: right;\">\n",
       "      <th></th>\n",
       "      <th>ID</th>\n",
       "      <th>Title</th>\n",
       "      <th>Artist Name</th>\n",
       "      <th>Completion Year</th>\n",
       "      <th>Image URL</th>\n",
       "      <th>Width</th>\n",
       "      <th>Height</th>\n",
       "      <th>Genres</th>\n",
       "      <th>Styles</th>\n",
       "      <th>Artist ID</th>\n",
       "      <th>Description</th>\n",
       "      <th>Location</th>\n",
       "    </tr>\n",
       "  </thead>\n",
       "  <tbody>\n",
       "    <tr>\n",
       "      <th>0</th>\n",
       "      <td>57727444edc2cb3880cb7bf6</td>\n",
       "      <td>Mona Lisa</td>\n",
       "      <td>da Vinci Leonardo</td>\n",
       "      <td>1519.0</td>\n",
       "      <td>https://uploads5.wikiart.org/00475/images/leon...</td>\n",
       "      <td>408</td>\n",
       "      <td>600</td>\n",
       "      <td>portrait</td>\n",
       "      <td>High Renaissance</td>\n",
       "      <td>57726d85edc2cb3880b48ccd</td>\n",
       "      <td>One of the most iconic and recognizable painti...</td>\n",
       "      <td>FlorenceItaly</td>\n",
       "    </tr>\n",
       "    <tr>\n",
       "      <th>1</th>\n",
       "      <td>5772716cedc2cb3880c1907f</td>\n",
       "      <td>The Starry Night</td>\n",
       "      <td>van Gogh Vincent</td>\n",
       "      <td>1889.0</td>\n",
       "      <td>https://uploads3.wikiart.org/00475/images/vinc...</td>\n",
       "      <td>750</td>\n",
       "      <td>598</td>\n",
       "      <td>cloudscape</td>\n",
       "      <td>Post-Impressionism</td>\n",
       "      <td>57726d82edc2cb3880b486a0</td>\n",
       "      <td>Van Gogh's night sky is a field of roiling ene...</td>\n",
       "      <td>Saint-rémy-de-provenceFrance</td>\n",
       "    </tr>\n",
       "    <tr>\n",
       "      <th>2</th>\n",
       "      <td>57727593edc2cb3880ceb255</td>\n",
       "      <td>In Bed, The Kiss</td>\n",
       "      <td>Toulouse-Lautrec Henri de</td>\n",
       "      <td>1892.0</td>\n",
       "      <td>https://uploads8.wikiart.org/images/henri-de-t...</td>\n",
       "      <td>750</td>\n",
       "      <td>559</td>\n",
       "      <td>genre painting</td>\n",
       "      <td>Post-Impressionism</td>\n",
       "      <td>57726d86edc2cb3880b48f5d</td>\n",
       "      <td>This captivating 1892 artwork, In Bed: The Kis...</td>\n",
       "      <td>NaN</td>\n",
       "    </tr>\n",
       "    <tr>\n",
       "      <th>3</th>\n",
       "      <td>57726e7bedc2cb3880b7466a</td>\n",
       "      <td>The Birth of Venus</td>\n",
       "      <td>Botticelli Sandro</td>\n",
       "      <td>1485.0</td>\n",
       "      <td>https://uploads6.wikiart.org/images/sandro-bot...</td>\n",
       "      <td>750</td>\n",
       "      <td>500</td>\n",
       "      <td>mythological painting</td>\n",
       "      <td>Early Renaissance</td>\n",
       "      <td>57726d7dedc2cb3880b47c88</td>\n",
       "      <td>[i]The Birth of Venus[/i], painted by Sandro B...</td>\n",
       "      <td>NaN</td>\n",
       "    </tr>\n",
       "    <tr>\n",
       "      <th>4</th>\n",
       "      <td>577271f9edc2cb3880c37dcd</td>\n",
       "      <td>The School of Athens</td>\n",
       "      <td>Raphael</td>\n",
       "      <td>1511.0</td>\n",
       "      <td>https://uploads6.wikiart.org/00475/images/raph...</td>\n",
       "      <td>750</td>\n",
       "      <td>534</td>\n",
       "      <td>history painting</td>\n",
       "      <td>High Renaissance</td>\n",
       "      <td>57726d83edc2cb3880b487fe</td>\n",
       "      <td>The School of Athens fresco, which is one of R...</td>\n",
       "      <td>NaN</td>\n",
       "    </tr>\n",
       "  </tbody>\n",
       "</table>\n",
       "</div>"
      ],
      "text/plain": [
       "                         ID                 Title                Artist Name  \\\n",
       "0  57727444edc2cb3880cb7bf6             Mona Lisa          da Vinci Leonardo   \n",
       "1  5772716cedc2cb3880c1907f      The Starry Night          van Gogh Vincent    \n",
       "2  57727593edc2cb3880ceb255      In Bed, The Kiss  Toulouse-Lautrec Henri de   \n",
       "3  57726e7bedc2cb3880b7466a    The Birth of Venus         Botticelli Sandro    \n",
       "4  577271f9edc2cb3880c37dcd  The School of Athens                    Raphael   \n",
       "\n",
       "  Completion Year                                          Image URL Width  \\\n",
       "0          1519.0  https://uploads5.wikiart.org/00475/images/leon...   408   \n",
       "1          1889.0  https://uploads3.wikiart.org/00475/images/vinc...   750   \n",
       "2          1892.0  https://uploads8.wikiart.org/images/henri-de-t...   750   \n",
       "3          1485.0  https://uploads6.wikiart.org/images/sandro-bot...   750   \n",
       "4          1511.0  https://uploads6.wikiart.org/00475/images/raph...   750   \n",
       "\n",
       "   Height                 Genres              Styles  \\\n",
       "0     600               portrait    High Renaissance   \n",
       "1     598             cloudscape  Post-Impressionism   \n",
       "2     559         genre painting  Post-Impressionism   \n",
       "3     500  mythological painting   Early Renaissance   \n",
       "4     534       history painting    High Renaissance   \n",
       "\n",
       "                  Artist ID  \\\n",
       "0  57726d85edc2cb3880b48ccd   \n",
       "1  57726d82edc2cb3880b486a0   \n",
       "2  57726d86edc2cb3880b48f5d   \n",
       "3  57726d7dedc2cb3880b47c88   \n",
       "4  57726d83edc2cb3880b487fe   \n",
       "\n",
       "                                         Description  \\\n",
       "0  One of the most iconic and recognizable painti...   \n",
       "1  Van Gogh's night sky is a field of roiling ene...   \n",
       "2  This captivating 1892 artwork, In Bed: The Kis...   \n",
       "3  [i]The Birth of Venus[/i], painted by Sandro B...   \n",
       "4  The School of Athens fresco, which is one of R...   \n",
       "\n",
       "                       Location  \n",
       "0                 FlorenceItaly  \n",
       "1  Saint-rémy-de-provenceFrance  \n",
       "2                           NaN  \n",
       "3                           NaN  \n",
       "4                           NaN  "
      ]
     },
     "execution_count": 10,
     "metadata": {},
     "output_type": "execute_result"
    }
   ],
   "source": [
    "df.head()"
   ]
  },
  {
   "cell_type": "code",
   "execution_count": 11,
   "id": "b8efb3d2-b99d-4c82-89f9-2f198f8b1658",
   "metadata": {},
   "outputs": [
    {
     "data": {
      "text/plain": [
       "419"
      ]
     },
     "execution_count": 11,
     "metadata": {},
     "output_type": "execute_result"
    }
   ],
   "source": [
    "df['ID'].nunique()"
   ]
  },
  {
   "cell_type": "code",
   "execution_count": 12,
   "id": "820b2f75-466d-4c5a-b029-4f74f3d4335f",
   "metadata": {},
   "outputs": [
    {
     "data": {
      "text/plain": [
       "'https://uploads5.wikiart.org/00475/images/leonardo-da-vinci/0000136308-og.JPG!Large.JPG'"
      ]
     },
     "execution_count": 12,
     "metadata": {},
     "output_type": "execute_result"
    }
   ],
   "source": [
    "df['Image URL'][0]"
   ]
  }
 ],
 "metadata": {
  "kernelspec": {
   "display_name": "Python 3 (ipykernel)",
   "language": "python",
   "name": "python3"
  },
  "language_info": {
   "codemirror_mode": {
    "name": "ipython",
    "version": 3
   },
   "file_extension": ".py",
   "mimetype": "text/x-python",
   "name": "python",
   "nbconvert_exporter": "python",
   "pygments_lexer": "ipython3",
   "version": "3.10.6"
  }
 },
 "nbformat": 4,
 "nbformat_minor": 5
}
