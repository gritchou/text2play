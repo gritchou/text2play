{
 "cells": [
  {
   "cell_type": "code",
   "execution_count": 1,
   "metadata": {},
   "outputs": [
    {
     "data": {
      "text/plain": [
       "True"
      ]
     },
     "execution_count": 1,
     "metadata": {},
     "output_type": "execute_result"
    }
   ],
   "source": [
    "import os\n",
    "from dotenv import load_dotenv\n",
    "from pathlib import Path\n",
    "import pandas as pd\n",
    "\n",
    "load_dotenv()"
   ]
  },
  {
   "cell_type": "code",
   "execution_count": 4,
   "metadata": {},
   "outputs": [],
   "source": [
    "DATASET_RAW_FILE_NAME=os.getenv('DATASET_PROCESSED_FILE_NAME')\n",
    "RAW_DATA_PATH=os.getenv('RAW_DATA_PATH')\n",
    "df = pd.read_csv(Path.cwd().parent / RAW_DATA_PATH / DATASET_RAW_FILE_NAME)"
   ]
  },
  {
   "cell_type": "code",
   "execution_count": 5,
   "metadata": {},
   "outputs": [
    {
     "data": {
      "text/html": [
       "<div>\n",
       "<style scoped>\n",
       "    .dataframe tbody tr th:only-of-type {\n",
       "        vertical-align: middle;\n",
       "    }\n",
       "\n",
       "    .dataframe tbody tr th {\n",
       "        vertical-align: top;\n",
       "    }\n",
       "\n",
       "    .dataframe thead th {\n",
       "        text-align: right;\n",
       "    }\n",
       "</style>\n",
       "<table border=\"1\" class=\"dataframe\">\n",
       "  <thead>\n",
       "    <tr style=\"text-align: right;\">\n",
       "      <th></th>\n",
       "      <th>ID</th>\n",
       "      <th>Title</th>\n",
       "      <th>Artist Name</th>\n",
       "      <th>Completion Year</th>\n",
       "      <th>Image URL</th>\n",
       "      <th>Width</th>\n",
       "      <th>Height</th>\n",
       "      <th>Genres</th>\n",
       "      <th>Styles</th>\n",
       "      <th>Artist ID</th>\n",
       "      <th>Description</th>\n",
       "      <th>Location</th>\n",
       "    </tr>\n",
       "  </thead>\n",
       "  <tbody>\n",
       "    <tr>\n",
       "      <th>0</th>\n",
       "      <td>57727444edc2cb3880cb7bf6</td>\n",
       "      <td>Mona Lisa</td>\n",
       "      <td>da Vinci Leonardo</td>\n",
       "      <td>1519.0</td>\n",
       "      <td>https://uploads5.wikiart.org/00475/images/leon...</td>\n",
       "      <td>408</td>\n",
       "      <td>600</td>\n",
       "      <td>portrait</td>\n",
       "      <td>High Renaissance</td>\n",
       "      <td>57726d85edc2cb3880b48ccd</td>\n",
       "      <td>One of the most iconic and recognizable painti...</td>\n",
       "      <td>FlorenceItaly</td>\n",
       "    </tr>\n",
       "    <tr>\n",
       "      <th>1</th>\n",
       "      <td>5772716cedc2cb3880c1907f</td>\n",
       "      <td>The Starry Night</td>\n",
       "      <td>van Gogh Vincent</td>\n",
       "      <td>1889.0</td>\n",
       "      <td>https://uploads3.wikiart.org/00475/images/vinc...</td>\n",
       "      <td>750</td>\n",
       "      <td>598</td>\n",
       "      <td>cloudscape</td>\n",
       "      <td>Post-Impressionism</td>\n",
       "      <td>57726d82edc2cb3880b486a0</td>\n",
       "      <td>Van Gogh's night sky is a field of roiling ene...</td>\n",
       "      <td>Saint-rémy-de-provenceFrance</td>\n",
       "    </tr>\n",
       "    <tr>\n",
       "      <th>2</th>\n",
       "      <td>57727593edc2cb3880ceb255</td>\n",
       "      <td>In Bed, The Kiss</td>\n",
       "      <td>Toulouse-Lautrec Henri de</td>\n",
       "      <td>1892.0</td>\n",
       "      <td>https://uploads8.wikiart.org/images/henri-de-t...</td>\n",
       "      <td>750</td>\n",
       "      <td>559</td>\n",
       "      <td>genre painting</td>\n",
       "      <td>Post-Impressionism</td>\n",
       "      <td>57726d86edc2cb3880b48f5d</td>\n",
       "      <td>This captivating 1892 artwork, In Bed: The Kis...</td>\n",
       "      <td>NaN</td>\n",
       "    </tr>\n",
       "    <tr>\n",
       "      <th>3</th>\n",
       "      <td>57726e7bedc2cb3880b7466a</td>\n",
       "      <td>The Birth of Venus</td>\n",
       "      <td>Botticelli Sandro</td>\n",
       "      <td>1485.0</td>\n",
       "      <td>https://uploads6.wikiart.org/images/sandro-bot...</td>\n",
       "      <td>750</td>\n",
       "      <td>500</td>\n",
       "      <td>mythological painting</td>\n",
       "      <td>Early Renaissance</td>\n",
       "      <td>57726d7dedc2cb3880b47c88</td>\n",
       "      <td>[i]The Birth of Venus[/i], painted by Sandro B...</td>\n",
       "      <td>NaN</td>\n",
       "    </tr>\n",
       "    <tr>\n",
       "      <th>4</th>\n",
       "      <td>577271f9edc2cb3880c37dcd</td>\n",
       "      <td>The School of Athens</td>\n",
       "      <td>Raphael</td>\n",
       "      <td>1511.0</td>\n",
       "      <td>https://uploads6.wikiart.org/00475/images/raph...</td>\n",
       "      <td>750</td>\n",
       "      <td>534</td>\n",
       "      <td>history painting</td>\n",
       "      <td>High Renaissance</td>\n",
       "      <td>57726d83edc2cb3880b487fe</td>\n",
       "      <td>The School of Athens fresco, which is one of R...</td>\n",
       "      <td>NaN</td>\n",
       "    </tr>\n",
       "  </tbody>\n",
       "</table>\n",
       "</div>"
      ],
      "text/plain": [
       "                         ID                 Title                Artist Name  \\\n",
       "0  57727444edc2cb3880cb7bf6             Mona Lisa          da Vinci Leonardo   \n",
       "1  5772716cedc2cb3880c1907f      The Starry Night          van Gogh Vincent    \n",
       "2  57727593edc2cb3880ceb255      In Bed, The Kiss  Toulouse-Lautrec Henri de   \n",
       "3  57726e7bedc2cb3880b7466a    The Birth of Venus         Botticelli Sandro    \n",
       "4  577271f9edc2cb3880c37dcd  The School of Athens                    Raphael   \n",
       "\n",
       "  Completion Year                                          Image URL Width  \\\n",
       "0          1519.0  https://uploads5.wikiart.org/00475/images/leon...   408   \n",
       "1          1889.0  https://uploads3.wikiart.org/00475/images/vinc...   750   \n",
       "2          1892.0  https://uploads8.wikiart.org/images/henri-de-t...   750   \n",
       "3          1485.0  https://uploads6.wikiart.org/images/sandro-bot...   750   \n",
       "4          1511.0  https://uploads6.wikiart.org/00475/images/raph...   750   \n",
       "\n",
       "   Height                 Genres              Styles  \\\n",
       "0     600               portrait    High Renaissance   \n",
       "1     598             cloudscape  Post-Impressionism   \n",
       "2     559         genre painting  Post-Impressionism   \n",
       "3     500  mythological painting   Early Renaissance   \n",
       "4     534       history painting    High Renaissance   \n",
       "\n",
       "                  Artist ID  \\\n",
       "0  57726d85edc2cb3880b48ccd   \n",
       "1  57726d82edc2cb3880b486a0   \n",
       "2  57726d86edc2cb3880b48f5d   \n",
       "3  57726d7dedc2cb3880b47c88   \n",
       "4  57726d83edc2cb3880b487fe   \n",
       "\n",
       "                                         Description  \\\n",
       "0  One of the most iconic and recognizable painti...   \n",
       "1  Van Gogh's night sky is a field of roiling ene...   \n",
       "2  This captivating 1892 artwork, In Bed: The Kis...   \n",
       "3  [i]The Birth of Venus[/i], painted by Sandro B...   \n",
       "4  The School of Athens fresco, which is one of R...   \n",
       "\n",
       "                       Location  \n",
       "0                 FlorenceItaly  \n",
       "1  Saint-rémy-de-provenceFrance  \n",
       "2                           NaN  \n",
       "3                           NaN  \n",
       "4                           NaN  "
      ]
     },
     "execution_count": 5,
     "metadata": {},
     "output_type": "execute_result"
    }
   ],
   "source": [
    "df.head(5)"
   ]
  },
  {
   "cell_type": "code",
   "execution_count": 6,
   "metadata": {},
   "outputs": [
    {
     "data": {
      "text/plain": [
       "'[i]The Birth of Venus[/i], painted by Sandro Botticelli in the 1480s, is one of the most famous paintings in the world: it is a celebrated work of art and the high point of a visit to the Uffizi Gallery in Florence. It is also a commercial icon and a line mark of European Art.\\n\\nThe real subject of the painting and its meaning is a mystery under discussion. Over the centuries, many theories and interpretations have been developed, proving the complexity of this work of art. The composition of the painting is quite simple: in the center, there’s a figure of Venus, goddess of love, standing in a shell being washed up on a beach, blown there by two personifications of winds visible on the left, and welcomed by a maiden on the right. There is a contrast between the title of the work and what it represents: we do not see the moment of Venus’ birth. According to the myth, she was born from the foam of the sea, but the painting shows us the moment when she arrives on land. It is clear that the personifications of the winds are Zephyrus and Aura, one impetuous and the other moderate. But the figure of the girl is uncertain: she could be Spring, a subject dear to Botticelli, because her dress is full of flowers, or the personification of motherhood, or one of the Three Graces. She has branches of roses around her waist, and myrtle branches around her neck - sacred plants for Venus.\\n\\nThe painting is a masterpiece of linearity and harmonious design, clarity, and brightness of colors, which includes the use of gold in a lot of detail. We have to remember that the painting today is not as glorious it was initially. The colors were brighter, especially the greens of the trees, and the blue of the sky.\\n\\n[i]The Birth of Venus[/i] is a work of extraordinary innovation, from many points of view. First, it is a representation of a nude woman: this kind of subject was restricted during the Medieval ages - the only exception was an image of Eve in the Garden of Eden. Botticielli produced the image of a beautiful naked woman, with a gaze that is remarkably in direct engagement with the viewer. Next, there is the news of the mythological theme that in the 1480s was absolutely a new type of painting. Botticelli obviously read classical texts before painting it: for example, the Roman writer Plinio made the description of the painting by the Greek artist [url href=https://www.wikiart.org/en/apelles]Apelles[/url] that showed Venus rising from the sea or a Homeric hymn that told about Zephyrus that blows his wind on Aphrodite. \\n\\nBut not only the classical world was the source of Botticelli\\'s work. He depicted the scene with a solemnity that recalls a religious rite; the disposition of the characters and their gestures remind representations of the Baptism of Christ, like [url href=https://www.wikiart.org/en/andrea-del-verrocchio/the-baptism-of-christ]that of Verrocchio[/url], which Botticelli had certainly seen. This iconographic analogy alludes, perhaps, to a thematic analogy between the mythical birth of the goddess from the sea and the Christian birth of the soul from the water of Baptism.\\n\\nIt is highly probable that the work was commissioned by a member of the Medici family (perhaps by Lorenzo di Pierfrancesco de\\' Medici, a major patron of Botticelli, under the influence of his cousin Lorenzo de\\' Medici, \"il Magnifico\"), although there is nothing written about the painting before 1550, when [url href=https://www.wikiart.org/en/giorgio-vasari]Giorgio Vasari[/url] describes it in the Medici’s Villa of Castello, owned by the cadet branch of the Medici family since the mid-15th century. This hypothesis would seem to be born out by the orange trees in the painting, which are considered an emblem of the Medici dynasty, on account of the assonance between the family name and the name of the orange tree, which at the time was ‘[i]mala medica[/i]’.'"
      ]
     },
     "execution_count": 6,
     "metadata": {},
     "output_type": "execute_result"
    }
   ],
   "source": [
    "df['Description'][3]"
   ]
  },
  {
   "cell_type": "code",
   "execution_count": 15,
   "metadata": {},
   "outputs": [
    {
     "data": {
      "text/plain": [
       "'This painting, considered Klee’s masterpiece, is an example of Klee’s masterful skill with color. Small blocks of shifting colors float through the background, set in place with a thick black outline, evincing the idea of a building or a house. It is also the finest example of Klee’s ability in pointillism and technical ability as an artist. As an artist with great skill with color, he was also a great teacher at color mixing and theory. He wrote his great treatise, a collection of lectures, entitled Writings on Form and Design Theory, which is considered one of the most influential writings in modern art. '"
      ]
     },
     "execution_count": 15,
     "metadata": {},
     "output_type": "execute_result"
    }
   ],
   "source": [
    "# Regular expression to remove specified patterns \"[i], [/i], [b], [/b], [u], and [/u]\"\n",
    "# pattern_to_remove = r'\\[/?i\\]|\\[/?b\\]|\\[/?u\\]'\n",
    "pattern_to_remove = r'\\[/?i\\]|\\[/?b\\]|\\[/?u\\]|\\[url href=[^\\]]*\\][^\\[]*\\[/url\\]'\n",
    "# Removing the patterns\n",
    "df['Description'] = df['Description'].str.replace(pattern_to_remove, '', regex=True)\n",
    "df['Description'][27]"
   ]
  },
  {
   "cell_type": "code",
   "execution_count": 16,
   "metadata": {},
   "outputs": [
    {
     "data": {
      "text/plain": [
       "'Catalogue raisonné:'"
      ]
     },
     "execution_count": 16,
     "metadata": {},
     "output_type": "execute_result"
    }
   ],
   "source": [
    "import re\n",
    "s = '[u]Catalogue raisonné:[/u]'\n",
    "cleaned_text = re.sub(pattern_to_remove, '', s)\n",
    "cleaned_text"
   ]
  },
  {
   "cell_type": "code",
   "execution_count": null,
   "metadata": {},
   "outputs": [],
   "source": []
  },
  {
   "cell_type": "code",
   "execution_count": 17,
   "metadata": {},
   "outputs": [
    {
     "data": {
      "text/plain": [
       "'he painting is considered a , a subcategory of portraiture that was popular in the Dutch Golden Age and Flemish  art. Tronies are studies of facial characteristics, stereotypical characters or exaggerated expressions. Vermeer captures a fleeting moment, the girl turning her head, her lips slightly parted while she directly faces the viewer. The girl wears a head wrap inspired by a Turkish turban and an enormous pearl earring. These exotic elements increase the drama of the painting, and give the artist the opportunity to display artistic effects in his treatment of light and texture. Another tronie by Vermeer, [url href=https://www.wikiart.org/en/johannes-vermeer/study-of-a-young-woman]Study of A Young Woman[/url] (ca. 1665-1667) is often seen as a variant or counterpart of The Girl with a Pearl Earring. In both paintings, the figures are set against a black background, wearing the pearl earring and having a scarf draped over the shoulder. While The Girl with a Pearl Earring is an idealized beauty, the Study of A Young Woman shows plain and imperfect facial features.'"
      ]
     },
     "execution_count": 17,
     "metadata": {},
     "output_type": "execute_result"
    }
   ],
   "source": [
    "url =  \"he painting is considered a [url href=https://www.wikiart.org/en/paintings-by-genre/tronie#!#filterName:all-works,viewType:masonry]tronie[/url], a subcategory of portraiture that was popular in the Dutch Golden Age and Flemish [url href=https://www.wikiart.org/en/artists-by-art-movement/baroque#!#filterName:all-works,viewType:masonry]Baroque[/url] art. Tronies are studies of facial characteristics, stereotypical characters or exaggerated expressions. Vermeer captures a fleeting moment, the girl turning her head, her lips slightly parted while she directly faces the viewer. The girl wears a head wrap inspired by a Turkish turban and an enormous pearl earring. These exotic elements increase the drama of the painting, and give the artist the opportunity to display artistic effects in his treatment of light and texture. Another tronie by Vermeer, [url href=https://www.wikiart.org/en/johannes-vermeer/study-of-a-young-woman][i]Study of A Young Woman[/i][/url] (ca. 1665-1667) is often seen as a variant or counterpart of [i]The Girl with a Pearl Earring[/i]. In both paintings, the figures are set against a black background, wearing the pearl earring and having a scarf draped over the shoulder. While [i]The Girl with a Pearl Earring[/i] is an idealized beauty, the [i]Study of A Young Woman[/i] shows plain and imperfect facial features.\"\n",
    "clean_url = re.sub(pattern_to_remove, '', url)\n",
    "clean_url"
   ]
  },
  {
   "cell_type": "code",
   "execution_count": 20,
   "metadata": {},
   "outputs": [
    {
     "data": {
      "text/plain": [
       "'This is a bold sentence with a , italic HTML, and bold text.'"
      ]
     },
     "execution_count": 20,
     "metadata": {},
     "output_type": "execute_result"
    }
   ],
   "source": [
    "pattern = r'<[^>]+>|\\[/?i\\]|\\[/?b\\]|\\[/?u\\]|\\[url href=[^\\]]*\\][^\\[]*\\[/url\\]'\n",
    "text = \"This is a <b>bold</b> sentence with a [url href=https://www.example.com]link[/url], <i>italic</i> HTML, and [b]bold[/b] text.\"\n",
    "clean = re.sub(pattern, '', text)\n",
    "clean"
   ]
  },
  {
   "cell_type": "code",
   "execution_count": 1,
   "metadata": {},
   "outputs": [
    {
     "name": "stdout",
     "output_type": "stream",
     "text": [
      "Requirement already satisfied: fastapi in /Users/shujakhan/.pyenv/versions/3.10.6/envs/text2play/lib/python3.10/site-packages (0.111.0)\n",
      "Requirement already satisfied: starlette<0.38.0,>=0.37.2 in /Users/shujakhan/.pyenv/versions/3.10.6/envs/text2play/lib/python3.10/site-packages (from fastapi) (0.37.2)\n",
      "Requirement already satisfied: pydantic!=1.8,!=1.8.1,!=2.0.0,!=2.0.1,!=2.1.0,<3.0.0,>=1.7.4 in /Users/shujakhan/.pyenv/versions/3.10.6/envs/text2play/lib/python3.10/site-packages (from fastapi) (2.7.1)\n",
      "Requirement already satisfied: typing-extensions>=4.8.0 in /Users/shujakhan/.pyenv/versions/3.10.6/envs/text2play/lib/python3.10/site-packages (from fastapi) (4.11.0)\n",
      "Requirement already satisfied: fastapi-cli>=0.0.2 in /Users/shujakhan/.pyenv/versions/3.10.6/envs/text2play/lib/python3.10/site-packages (from fastapi) (0.0.3)\n",
      "Requirement already satisfied: httpx>=0.23.0 in /Users/shujakhan/.pyenv/versions/3.10.6/envs/text2play/lib/python3.10/site-packages (from fastapi) (0.27.0)\n",
      "Requirement already satisfied: jinja2>=2.11.2 in /Users/shujakhan/.pyenv/versions/3.10.6/envs/text2play/lib/python3.10/site-packages (from fastapi) (3.1.4)\n",
      "Requirement already satisfied: python-multipart>=0.0.7 in /Users/shujakhan/.pyenv/versions/3.10.6/envs/text2play/lib/python3.10/site-packages (from fastapi) (0.0.9)\n",
      "Requirement already satisfied: ujson!=4.0.2,!=4.1.0,!=4.2.0,!=4.3.0,!=5.0.0,!=5.1.0,>=4.0.1 in /Users/shujakhan/.pyenv/versions/3.10.6/envs/text2play/lib/python3.10/site-packages (from fastapi) (5.9.0)\n",
      "Requirement already satisfied: orjson>=3.2.1 in /Users/shujakhan/.pyenv/versions/3.10.6/envs/text2play/lib/python3.10/site-packages (from fastapi) (3.10.3)\n",
      "Requirement already satisfied: email_validator>=2.0.0 in /Users/shujakhan/.pyenv/versions/3.10.6/envs/text2play/lib/python3.10/site-packages (from fastapi) (2.1.1)\n",
      "Requirement already satisfied: uvicorn>=0.12.0 in /Users/shujakhan/.pyenv/versions/3.10.6/envs/text2play/lib/python3.10/site-packages (from uvicorn[standard]>=0.12.0->fastapi) (0.29.0)\n",
      "Requirement already satisfied: dnspython>=2.0.0 in /Users/shujakhan/.pyenv/versions/3.10.6/envs/text2play/lib/python3.10/site-packages (from email_validator>=2.0.0->fastapi) (2.6.1)\n",
      "Requirement already satisfied: idna>=2.0.0 in /Users/shujakhan/.pyenv/versions/3.10.6/envs/text2play/lib/python3.10/site-packages (from email_validator>=2.0.0->fastapi) (3.7)\n",
      "Requirement already satisfied: typer>=0.12.3 in /Users/shujakhan/.pyenv/versions/3.10.6/envs/text2play/lib/python3.10/site-packages (from fastapi-cli>=0.0.2->fastapi) (0.12.3)\n",
      "Requirement already satisfied: anyio in /Users/shujakhan/.pyenv/versions/3.10.6/envs/text2play/lib/python3.10/site-packages (from httpx>=0.23.0->fastapi) (4.3.0)\n",
      "Requirement already satisfied: certifi in /Users/shujakhan/.pyenv/versions/3.10.6/envs/text2play/lib/python3.10/site-packages (from httpx>=0.23.0->fastapi) (2024.2.2)\n",
      "Requirement already satisfied: httpcore==1.* in /Users/shujakhan/.pyenv/versions/3.10.6/envs/text2play/lib/python3.10/site-packages (from httpx>=0.23.0->fastapi) (1.0.5)\n",
      "Requirement already satisfied: sniffio in /Users/shujakhan/.pyenv/versions/3.10.6/envs/text2play/lib/python3.10/site-packages (from httpx>=0.23.0->fastapi) (1.3.1)\n",
      "Requirement already satisfied: h11<0.15,>=0.13 in /Users/shujakhan/.pyenv/versions/3.10.6/envs/text2play/lib/python3.10/site-packages (from httpcore==1.*->httpx>=0.23.0->fastapi) (0.14.0)\n",
      "Requirement already satisfied: MarkupSafe>=2.0 in /Users/shujakhan/.pyenv/versions/3.10.6/envs/text2play/lib/python3.10/site-packages (from jinja2>=2.11.2->fastapi) (2.1.5)\n",
      "Requirement already satisfied: annotated-types>=0.4.0 in /Users/shujakhan/.pyenv/versions/3.10.6/envs/text2play/lib/python3.10/site-packages (from pydantic!=1.8,!=1.8.1,!=2.0.0,!=2.0.1,!=2.1.0,<3.0.0,>=1.7.4->fastapi) (0.6.0)\n",
      "Requirement already satisfied: pydantic-core==2.18.2 in /Users/shujakhan/.pyenv/versions/3.10.6/envs/text2play/lib/python3.10/site-packages (from pydantic!=1.8,!=1.8.1,!=2.0.0,!=2.0.1,!=2.1.0,<3.0.0,>=1.7.4->fastapi) (2.18.2)\n",
      "Requirement already satisfied: click>=7.0 in /Users/shujakhan/.pyenv/versions/3.10.6/envs/text2play/lib/python3.10/site-packages (from uvicorn>=0.12.0->uvicorn[standard]>=0.12.0->fastapi) (8.1.7)\n",
      "Requirement already satisfied: httptools>=0.5.0 in /Users/shujakhan/.pyenv/versions/3.10.6/envs/text2play/lib/python3.10/site-packages (from uvicorn[standard]>=0.12.0->fastapi) (0.6.1)\n",
      "Requirement already satisfied: python-dotenv>=0.13 in /Users/shujakhan/.pyenv/versions/3.10.6/envs/text2play/lib/python3.10/site-packages (from uvicorn[standard]>=0.12.0->fastapi) (0.20.0)\n",
      "Requirement already satisfied: pyyaml>=5.1 in /Users/shujakhan/.pyenv/versions/3.10.6/envs/text2play/lib/python3.10/site-packages (from uvicorn[standard]>=0.12.0->fastapi) (6.0.1)\n",
      "Requirement already satisfied: uvloop!=0.15.0,!=0.15.1,>=0.14.0 in /Users/shujakhan/.pyenv/versions/3.10.6/envs/text2play/lib/python3.10/site-packages (from uvicorn[standard]>=0.12.0->fastapi) (0.19.0)\n",
      "Requirement already satisfied: watchfiles>=0.13 in /Users/shujakhan/.pyenv/versions/3.10.6/envs/text2play/lib/python3.10/site-packages (from uvicorn[standard]>=0.12.0->fastapi) (0.21.0)\n",
      "Requirement already satisfied: websockets>=10.4 in /Users/shujakhan/.pyenv/versions/3.10.6/envs/text2play/lib/python3.10/site-packages (from uvicorn[standard]>=0.12.0->fastapi) (12.0)\n",
      "Requirement already satisfied: exceptiongroup>=1.0.2 in /Users/shujakhan/.pyenv/versions/3.10.6/envs/text2play/lib/python3.10/site-packages (from anyio->httpx>=0.23.0->fastapi) (1.2.1)\n",
      "Requirement already satisfied: shellingham>=1.3.0 in /Users/shujakhan/.pyenv/versions/3.10.6/envs/text2play/lib/python3.10/site-packages (from typer>=0.12.3->fastapi-cli>=0.0.2->fastapi) (1.5.4)\n",
      "Requirement already satisfied: rich>=10.11.0 in /Users/shujakhan/.pyenv/versions/3.10.6/envs/text2play/lib/python3.10/site-packages (from typer>=0.12.3->fastapi-cli>=0.0.2->fastapi) (13.7.1)\n",
      "Requirement already satisfied: markdown-it-py>=2.2.0 in /Users/shujakhan/.pyenv/versions/3.10.6/envs/text2play/lib/python3.10/site-packages (from rich>=10.11.0->typer>=0.12.3->fastapi-cli>=0.0.2->fastapi) (3.0.0)\n",
      "Requirement already satisfied: pygments<3.0.0,>=2.13.0 in /Users/shujakhan/.pyenv/versions/3.10.6/envs/text2play/lib/python3.10/site-packages (from rich>=10.11.0->typer>=0.12.3->fastapi-cli>=0.0.2->fastapi) (2.18.0)\n",
      "Requirement already satisfied: mdurl~=0.1 in /Users/shujakhan/.pyenv/versions/3.10.6/envs/text2play/lib/python3.10/site-packages (from markdown-it-py>=2.2.0->rich>=10.11.0->typer>=0.12.3->fastapi-cli>=0.0.2->fastapi) (0.1.2)\n"
     ]
    }
   ],
   "source": [
    "! pip install fastapi"
   ]
  },
  {
   "cell_type": "code",
   "execution_count": 2,
   "metadata": {},
   "outputs": [],
   "source": [
    "import fastapi"
   ]
  }
 ],
 "metadata": {
  "kernelspec": {
   "display_name": "text2play",
   "language": "python",
   "name": "python3"
  },
  "language_info": {
   "codemirror_mode": {
    "name": "ipython",
    "version": 3
   },
   "file_extension": ".py",
   "mimetype": "text/x-python",
   "name": "python",
   "nbconvert_exporter": "python",
   "pygments_lexer": "ipython3",
   "version": "3.10.6"
  }
 },
 "nbformat": 4,
 "nbformat_minor": 2
}
