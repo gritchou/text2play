{
 "cells": [
  {
   "cell_type": "code",
   "execution_count": 9,
   "metadata": {},
   "outputs": [
    {
     "name": "stdout",
     "output_type": "stream",
     "text": [
      "Notebook Directory: /home/gritchou/code/gritchou/text2play/notebooks\n",
      "Project Root: /home/gritchou/code/gritchou/text2play\n",
      "Src Directory: /home/gritchou/code/gritchou/text2play/src\n",
      "Sys Path: ['/home/gritchou/code/gritchou/04-Decision-Science/01-Project-Setup/data-context-and-setup', '/home/gritchou/code/gritchou/text2play/notebooks', '/home/gritchou/.pyenv/versions/3.10.6/lib/python310.zip', '/home/gritchou/.pyenv/versions/3.10.6/lib/python3.10', '/home/gritchou/.pyenv/versions/3.10.6/lib/python3.10/lib-dynload', '', '/home/gritchou/.pyenv/versions/3.10.6/envs/text2play/lib/python3.10/site-packages', '/home/gritchou/code/gritchou/text2play/src', '/home/gritchou/code/gritchou/text2play/src', '/home/gritchou/code/gritchou/text2play/src', '/home/gritchou/code/gritchou/text2play/src', '/home/gritchou/code/gritchou/text2play/src', '/home/gritchou/code/gritchou/text2play/src', '/home/gritchou/code/gritchou/text2play/src', '/home/gritchou/code/gritchou/text2play/src', '/home/gritchou/code/gritchou/text2play/src', '/home/gritchou/code/gritchou/text2play/src']\n"
     ]
    },
    {
     "ename": "ModuleNotFoundError",
     "evalue": "No module named 'models.style_transfer'",
     "output_type": "error",
     "traceback": [
      "\u001b[0;31m---------------------------------------------------------------------------\u001b[0m",
      "\u001b[0;31mModuleNotFoundError\u001b[0m                       Traceback (most recent call last)",
      "Cell \u001b[0;32mIn[9], line 21\u001b[0m\n\u001b[1;32m     18\u001b[0m \u001b[38;5;28mprint\u001b[39m(\u001b[38;5;124mf\u001b[39m\u001b[38;5;124m\"\u001b[39m\u001b[38;5;124mSys Path: \u001b[39m\u001b[38;5;132;01m{\u001b[39;00msys\u001b[38;5;241m.\u001b[39mpath\u001b[38;5;132;01m}\u001b[39;00m\u001b[38;5;124m\"\u001b[39m)\n\u001b[1;32m     20\u001b[0m \u001b[38;5;66;03m# Import the style_transfer function\u001b[39;00m\n\u001b[0;32m---> 21\u001b[0m \u001b[38;5;28;01mfrom\u001b[39;00m \u001b[38;5;21;01mmodels\u001b[39;00m\u001b[38;5;21;01m.\u001b[39;00m\u001b[38;5;21;01mstyle_transfer\u001b[39;00m \u001b[38;5;28;01mimport\u001b[39;00m style_transfer\n\u001b[1;32m     23\u001b[0m \u001b[38;5;66;03m# Define the paths to the content image and the style image\u001b[39;00m\n\u001b[1;32m     24\u001b[0m CONTENT_IMG_PATH \u001b[38;5;241m=\u001b[39m os\u001b[38;5;241m.\u001b[39mpath\u001b[38;5;241m.\u001b[39mjoin(src_dir, \u001b[38;5;124m'\u001b[39m\u001b[38;5;124mdata\u001b[39m\u001b[38;5;124m'\u001b[39m, \u001b[38;5;124m'\u001b[39m\u001b[38;5;124mraw\u001b[39m\u001b[38;5;124m'\u001b[39m, \u001b[38;5;124m'\u001b[39m\u001b[38;5;124mimages\u001b[39m\u001b[38;5;124m'\u001b[39m, \u001b[38;5;124m'\u001b[39m\u001b[38;5;124mcontent\u001b[39m\u001b[38;5;124m'\u001b[39m, \u001b[38;5;124m'\u001b[39m\u001b[38;5;124mbackground_medium.jpg\u001b[39m\u001b[38;5;124m'\u001b[39m)\n",
      "\u001b[0;31mModuleNotFoundError\u001b[0m: No module named 'models.style_transfer'"
     ]
    }
   ],
   "source": [
    "import sys\n",
    "import os\n",
    "import requests\n",
    "from PIL import Image\n",
    "import matplotlib.pyplot as plt\n",
    "from io import BytesIO\n",
    "\n",
    "# Add the src directory to the Python path\n",
    "notebook_dir = os.path.abspath('')\n",
    "project_root = os.path.dirname(notebook_dir)\n",
    "src_dir = os.path.join(project_root, 'src')\n",
    "sys.path.append(src_dir)\n",
    "\n",
    "# Verify the directories\n",
    "print(f\"Notebook Directory: {notebook_dir}\")\n",
    "print(f\"Project Root: {project_root}\")\n",
    "print(f\"Src Directory: {src_dir}\")\n",
    "print(f\"Sys Path: {sys.path}\")\n",
    "\n",
    "# Import the style_transfer function\n",
    "from models.style_transfer import style_transfer\n",
    "\n",
    "# Define the paths to the content image and the style image\n",
    "CONTENT_IMG_PATH = os.path.join(src_dir, 'data', 'raw', 'images', 'content', 'background_medium.jpg')\n",
    "STYLE_IMG_URL = \"https://uploads5.wikiart.org/00129/images/katsushika-hokusai/the-great-wave-off-kanagawa.jpg\"\n",
    "\n",
    "# Function to display images\n",
    "def display_images(content_path, style_url, *images_and_titles):\n",
    "    content_img = Image.open(content_path)\n",
    "    response = requests.get(style_url)\n",
    "    style_img = Image.open(BytesIO(response.content)).convert('RGB')\n",
    "\n",
    "    fig, axes = plt.subplots(1, len(images_and_titles) + 2, figsize=(20, 5))\n",
    "    axes[0].imshow(content_img)\n",
    "    axes[0].set_title('Content Image')\n",
    "    axes[0].axis('off')\n",
    "\n",
    "    axes[1].imshow(style_img)\n",
    "    axes[1].set_title('Style Image')\n",
    "    axes[1].axis('off')\n",
    "\n",
    "    for i, (image, title) in enumerate(images_and_titles):\n",
    "        axes[i + 2].imshow(image)\n",
    "        axes[i + 2].set_title(title)\n",
    "        axes[i + 2].axis('off')\n",
    "\n",
    "    plt.show()\n",
    "\n",
    "# Test the style_transfer function with different configurations\n",
    "def test_style_transfer(content_img_path, style_img_url, **kwargs):\n",
    "    output_img = style_transfer(content_img_path, style_img_url, **kwargs)\n",
    "    return output_img\n",
    "\n",
    "# Default parameters for testing\n",
    "default_params = {\n",
    "    \"content_weight\": 1e5,\n",
    "    \"style_weight\": 1e10,\n",
    "    \"num_steps\": 300,\n",
    "    \"content_layers\": ['conv_4'],\n",
    "    \"style_layers\": ['conv_1', 'conv_2', 'conv_3', 'conv_4', 'conv_5'],\n",
    "    \"optimizer_type\": 'LBFGS'\n",
    "}\n"
   ]
  },
  {
   "cell_type": "code",
   "execution_count": null,
   "metadata": {},
   "outputs": [],
   "source": [
    "# Test 1: Compare different optimizers\n",
    "output_lbfgs = test_style_transfer(CONTENT_IMG_PATH, STYLE_IMG_URL, **default_params)\n",
    "output_adam = test_style_transfer(CONTENT_IMG_PATH, STYLE_IMG_URL, **{**default_params, \"optimizer_type\": \"Adam\"})\n",
    "display_images(CONTENT_IMG_PATH, STYLE_IMG_URL, (output_lbfgs, \"LBFGS Optimizer\"), (output_adam, \"Adam Optimizer\"))"
   ]
  },
  {
   "cell_type": "code",
   "execution_count": null,
   "metadata": {},
   "outputs": [],
   "source": [
    "# Test 2: Compare different weights\n",
    "output_low_content_weight = test_style_transfer(CONTENT_IMG_PATH, STYLE_IMG_URL, **{**default_params, \"content_weight\": 1})\n",
    "output_high_content_weight = test_style_transfer(CONTENT_IMG_PATH, STYLE_IMG_URL, **{**default_params, \"content_weight\": 1e5})\n",
    "output_low_style_weight = test_style_transfer(CONTENT_IMG_PATH, STYLE_IMG_URL, **{**default_params, \"style_weight\": 1e3})\n",
    "output_high_style_weight = test_style_transfer(CONTENT_IMG_PATH, STYLE_IMG_URL, **{**default_params, \"style_weight\": 1e10})\n",
    "display_images(\n",
    "    CONTENT_IMG_PATH, STYLE_IMG_URL,\n",
    "    (output_low_content_weight, \"Low Content Weight\"),\n",
    "    (output_high_content_weight, \"High Content Weight\"),\n",
    "    (output_low_style_weight, \"Low Style Weight\"),\n",
    "    (output_high_style_weight, \"High Style Weight\")\n",
    ")"
   ]
  },
  {
   "cell_type": "code",
   "execution_count": null,
   "metadata": {},
   "outputs": [],
   "source": [
    "# Test 3: Compare different layers\n",
    "output_few_layers = test_style_transfer(CONTENT_IMG_PATH, STYLE_IMG_URL, **{**default_params, \"content_layers\": ['conv_4'], \"style_layers\": ['conv_1', 'conv_2']})\n",
    "output_many_layers = test_style_transfer(CONTENT_IMG_PATH, STYLE_IMG_URL, **{**default_params, \"content_layers\": ['conv_4'], \"style_layers\": ['conv_1', 'conv_2', 'conv_3', 'conv_4', 'conv_5']})\n",
    "display_images(\n",
    "    CONTENT_IMG_PATH, STYLE_IMG_URL,\n",
    "    (output_few_layers, \"Few Style Layers\"),\n",
    "    (output_many_layers, \"Many Style Layers\")\n",
    ")"
   ]
  }
 ],
 "metadata": {
  "kernelspec": {
   "display_name": "text2play",
   "language": "python",
   "name": "python3"
  },
  "language_info": {
   "codemirror_mode": {
    "name": "ipython",
    "version": 3
   },
   "file_extension": ".py",
   "mimetype": "text/x-python",
   "name": "python",
   "nbconvert_exporter": "python",
   "pygments_lexer": "ipython3",
   "version": "3.10.6"
  }
 },
 "nbformat": 4,
 "nbformat_minor": 2
}
